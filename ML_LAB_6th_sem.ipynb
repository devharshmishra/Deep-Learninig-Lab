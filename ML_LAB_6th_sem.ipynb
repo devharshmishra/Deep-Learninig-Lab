{
  "nbformat": 4,
  "nbformat_minor": 0,
  "metadata": {
    "colab": {
      "name": "ML LAB 6th sem.ipynb",
      "provenance": [],
      "collapsed_sections": [],
      "authorship_tag": "ABX9TyMgRAyTH4EJ+s52SmWZpc44",
      "include_colab_link": true
    },
    "kernelspec": {
      "name": "python3",
      "display_name": "Python 3"
    },
    "language_info": {
      "name": "python"
    }
  },
  "cells": [
    {
      "cell_type": "markdown",
      "metadata": {
        "id": "view-in-github",
        "colab_type": "text"
      },
      "source": [
        "<a href=\"https://colab.research.google.com/github/devharshmishra/Deep-Learninig-Lab/blob/main/ML_LAB_6th_sem.ipynb\" target=\"_parent\"><img src=\"https://colab.research.google.com/assets/colab-badge.svg\" alt=\"Open In Colab\"/></a>"
      ]
    },
    {
      "cell_type": "markdown",
      "source": [
        "KNeighborsClassifier"
      ],
      "metadata": {
        "id": "BJON3OXTWVj1"
      }
    },
    {
      "cell_type": "code",
      "execution_count": 4,
      "metadata": {
        "id": "_QDRVpYgS4VQ"
      },
      "outputs": [],
      "source": [
        "from sklearn.neighbors import KNeighborsClassifier\n",
        "from sklearn.model_selection import train_test_split\n",
        "from sklearn.datasets import load_breast_cancer"
      ]
    },
    {
      "cell_type": "code",
      "source": [
        "cancer = load_breast_cancer()\n",
        "X_train, X_test, y_train, y_test = train_test_split(cancer.data,cancer.target,random_state=0)\n",
        "\n",
        "model = KNeighborsClassifier(n_neighbors=5)\n",
        "\n",
        "\n",
        "\n",
        "model.fit(X_train,y_train)\n",
        "\n",
        "print(\"Prediction = {}\".format(model.predict(X_test)))\n",
        "\n",
        "print(\"Train Score = {}\".format(model.score(X_train,y_train)))\n",
        "\n",
        "print(\"Test Score = {}\".format(model.score(X_test,y_test)))"
      ],
      "metadata": {
        "colab": {
          "base_uri": "https://localhost:8080/"
        },
        "id": "eIoFSEvITBiQ",
        "outputId": "5783c9b5-e107-42be-e6d8-647412592ef8"
      },
      "execution_count": 12,
      "outputs": [
        {
          "output_type": "stream",
          "name": "stdout",
          "text": [
            "Prediction = [0 1 1 0 1 1 1 1 1 1 1 1 1 0 0 0 1 0 0 0 0 0 1 1 0 1 1 1 1 0 1 0 1 0 1 0 1\n",
            " 0 1 0 0 1 0 1 0 0 1 1 1 0 0 1 0 1 1 1 1 1 1 0 0 0 1 1 0 1 0 0 0 1 1 0 1 1\n",
            " 0 1 1 1 1 1 0 0 0 1 0 1 1 1 0 0 1 0 1 0 1 1 0 1 1 1 1 1 1 1 0 1 0 1 0 0 1\n",
            " 0 0 1 1 1 0 1 1 1 1 1 1 1 0 1 1 1 1 1 0 1 1 1 1 1 1 0 0 1 1 1 0]\n",
            "Train Score = 0.9413145539906104\n",
            "Test Score = 0.9370629370629371\n"
          ]
        }
      ]
    },
    {
      "cell_type": "markdown",
      "source": [
        "LinearRegression"
      ],
      "metadata": {
        "id": "2g_BOEPvWZgt"
      }
    },
    {
      "cell_type": "code",
      "source": [
        "!pip install mglearn -q\n",
        "import mglearn\n",
        "from sklearn.linear_model import LinearRegression\n",
        "from sklearn.model_selection import train_test_split"
      ],
      "metadata": {
        "id": "m9AE3FMnUZ9Q"
      },
      "execution_count": 15,
      "outputs": []
    },
    {
      "cell_type": "code",
      "source": [
        "X,y = mglearn.datasets.load_extended_boston()\n",
        "\n",
        "X_train, X_test, y_train, y_test = train_test_split(X,y,random_state=0)\n",
        "\n",
        "model = LinearRegression()\n",
        "\n",
        "\n",
        "\n",
        "model.fit(X_train,y_train)\n",
        "\n",
        "print(\"Prediction = {}\".format(model.predict(X_test)))\n",
        "\n",
        "print(\"Train Score = {}\".format(model.score(X_train,y_train)))\n",
        "\n",
        "print(\"Test Score = {}\".format(model.score(X_test,y_test)))"
      ],
      "metadata": {
        "colab": {
          "base_uri": "https://localhost:8080/"
        },
        "id": "5O7yyKbQXkt7",
        "outputId": "ed390b67-64bc-4542-dfe1-be46e23b0515"
      },
      "execution_count": 16,
      "outputs": [
        {
          "output_type": "stream",
          "name": "stdout",
          "text": [
            "Prediction = [ 23.65294082  26.73756431  29.61078314  10.15490293  19.63821608\n",
            "  19.69567722  22.04569772  20.8219241   11.62647856  17.55251923\n",
            "   6.02831471  13.30819476  14.08746399   8.24933315  48.92086715\n",
            "  35.54459237  23.67706411  37.23811936  32.28994966  22.44461026\n",
            "  25.04445792  21.34495855  20.89993569  27.34950626  18.20884762\n",
            "  30.05914961  16.38882367  18.27410131  34.58728224  13.84776749\n",
            "  16.56901813  18.20821168  20.00399253  19.68630353  26.44755882\n",
            "  16.35902867   7.10012009  36.71844063  16.76163017  13.4975915\n",
            "  22.14796642  19.86834244  19.74483033  19.04895022  11.823238\n",
            "  22.30991276  17.95961579   9.9207432   12.34654968  23.09629767\n",
            " -26.05316354  25.18108608  20.72351713  52.44146808   5.7506184\n",
            "  21.16062991  16.67681922  17.94789708  17.07672773  19.79482458\n",
            "  23.94848059  21.07920154  33.14839064  29.17411146  19.31538063\n",
            "  30.77385559  15.19001363  19.27968125  14.28902591  21.0217457\n",
            "  18.17979319  21.77419932  27.27988436  29.59118561  28.01422907\n",
            "   9.30237051  41.98096212  23.57185114  26.31853086  19.07604318\n",
            "  26.31654757  18.68443745  21.82845944  41.76250816  44.12433801\n",
            "  24.75612697  23.00111462  12.36563547  32.97750424  15.883512\n",
            "  18.83795677   9.18828122  21.12990826  29.96045985  17.69264721\n",
            "  21.70124105  13.25650224  24.96092522  13.6714964   15.60548478\n",
            "  25.38906925  19.15962141  30.84958417  19.3180996   27.06140523\n",
            "  19.93887424   7.83712161  20.29586097  18.22177943  25.73460894\n",
            "  36.21513111  13.7796668   16.79165488  19.17926261  15.27289768\n",
            "  19.34749235   6.24016005  20.50524461  11.22369929  51.59743425\n",
            "  28.7954706   11.24042043  17.25143184  21.4161027   19.72865917\n",
            "  19.28660344  36.92350037]\n",
            "Train Score = 0.9520519609032727\n",
            "Test Score = 0.6074721959665571\n"
          ]
        },
        {
          "output_type": "stream",
          "name": "stderr",
          "text": [
            "/usr/local/lib/python3.7/dist-packages/sklearn/utils/deprecation.py:87: FutureWarning: Function load_boston is deprecated; `load_boston` is deprecated in 1.0 and will be removed in 1.2.\n",
            "\n",
            "    The Boston housing prices dataset has an ethical problem. You can refer to\n",
            "    the documentation of this function for further details.\n",
            "\n",
            "    The scikit-learn maintainers therefore strongly discourage the use of this\n",
            "    dataset unless the purpose of the code is to study and educate about\n",
            "    ethical issues in data science and machine learning.\n",
            "\n",
            "    In this special case, you can fetch the dataset from the original\n",
            "    source::\n",
            "\n",
            "        import pandas as pd\n",
            "        import numpy as np\n",
            "\n",
            "\n",
            "        data_url = \"http://lib.stat.cmu.edu/datasets/boston\"\n",
            "        raw_df = pd.read_csv(data_url, sep=\"\\s+\", skiprows=22, header=None)\n",
            "        data = np.hstack([raw_df.values[::2, :], raw_df.values[1::2, :2]])\n",
            "        target = raw_df.values[1::2, 2]\n",
            "\n",
            "    Alternative datasets include the California housing dataset (i.e.\n",
            "    :func:`~sklearn.datasets.fetch_california_housing`) and the Ames housing\n",
            "    dataset. You can load the datasets as follows::\n",
            "\n",
            "        from sklearn.datasets import fetch_california_housing\n",
            "        housing = fetch_california_housing()\n",
            "\n",
            "    for the California housing dataset and::\n",
            "\n",
            "        from sklearn.datasets import fetch_openml\n",
            "        housing = fetch_openml(name=\"house_prices\", as_frame=True)\n",
            "\n",
            "    for the Ames housing dataset.\n",
            "    \n",
            "  warnings.warn(msg, category=FutureWarning)\n"
          ]
        }
      ]
    },
    {
      "cell_type": "markdown",
      "source": [
        "Ridge"
      ],
      "metadata": {
        "id": "MJtJoy-OZtMm"
      }
    },
    {
      "cell_type": "code",
      "source": [
        "!pip install mglearn -q\n",
        "import mglearn\n",
        "from sklearn.linear_model import Ridge\n",
        "from sklearn.model_selection import train_test_split\n",
        "\n",
        "X,y = mglearn.datasets.load_extended_boston()\n",
        "\n",
        "X_train, X_test, y_train, y_test = train_test_split(X,y,random_state=0)\n",
        "\n",
        "model = Ridge(alpha=.10)\n",
        "\n",
        "\n",
        "\n",
        "model.fit(X_train,y_train)\n",
        "\n",
        "print(\"Prediction = {}\".format(model.predict(X_test)))\n",
        "\n",
        "print(\"Train Score = {}\".format(model.score(X_train,y_train)))\n",
        "\n",
        "print(\"Test Score = {}\".format(model.score(X_test,y_test)))"
      ],
      "metadata": {
        "colab": {
          "base_uri": "https://localhost:8080/"
        },
        "id": "PzgsGkczZtzT",
        "outputId": "47da00a7-cbb3-4055-fc9a-e6f991572bda"
      },
      "execution_count": 19,
      "outputs": [
        {
          "output_type": "stream",
          "name": "stdout",
          "text": [
            "Prediction = [24.74896275 26.01555784 27.0821691  12.71165322 19.75781375 19.13628091\n",
            " 22.36302521 21.54557867 17.44859203 15.30963028  5.13603543 12.0664937\n",
            " 13.92748017  9.53119842 45.79875291 33.55890683 24.29988499 38.44775065\n",
            " 31.24576399 22.64756291 24.77110892 21.92789581 19.55262815 27.46796225\n",
            " 20.8907286  26.8133753  16.80457183 17.35558469 41.10295328 17.05470118\n",
            " 16.66102945 17.48536868 19.17187655 20.01242662 26.69615826 21.39518804\n",
            "  7.38587552 33.82873263 15.80992324 13.02682911 24.06686897 21.22423825\n",
            " 21.43889997 17.86846125 21.99373759 23.55975301 17.63037064 13.59900915\n",
            " 14.28560859 23.63652205  3.25487699 20.00979475 22.20424751 40.6702031\n",
            " 12.52478698 19.98564815 16.83021028 17.18903159 18.3862342  20.92569377\n",
            " 19.0053457  20.77845007 32.59406064 30.95841963 18.90492442 29.05472618\n",
            " 14.81235023 17.80276868 13.41744231 22.32608394 20.17282909 22.35600193\n",
            " 26.33596906 28.50223691 28.65612694  7.93892552 42.08242804 23.03252581\n",
            " 26.50436822 18.07257965 26.64482366 18.53771162 21.88679653 42.85306934\n",
            " 46.18879374 24.27921101 23.82530559 16.3872195  28.33548    15.11375203\n",
            " 15.16898516  7.99393924 20.21330384 29.32146797 20.07001104 20.15495015\n",
            " 11.17381926 24.10252255 12.68640938 17.10033975 25.06374031 20.47824068\n",
            " 31.12651131 20.48015085 26.8276361  19.87270255  9.27947775 20.49851879\n",
            " 20.63952123 26.41191116 35.68831002 12.84724137 16.852119   17.41222424\n",
            " 13.57304907 20.8567938   6.70591864 19.44973759 11.45200405 51.09939337\n",
            " 28.83586058 11.88782664 17.57815444 20.41850828 21.15066599 19.51096711\n",
            " 35.76995172]\n",
            "Train Score = 0.928227368500199\n",
            "Test Score = 0.7722067936479818\n"
          ]
        },
        {
          "output_type": "stream",
          "name": "stderr",
          "text": [
            "/usr/local/lib/python3.7/dist-packages/sklearn/utils/deprecation.py:87: FutureWarning: Function load_boston is deprecated; `load_boston` is deprecated in 1.0 and will be removed in 1.2.\n",
            "\n",
            "    The Boston housing prices dataset has an ethical problem. You can refer to\n",
            "    the documentation of this function for further details.\n",
            "\n",
            "    The scikit-learn maintainers therefore strongly discourage the use of this\n",
            "    dataset unless the purpose of the code is to study and educate about\n",
            "    ethical issues in data science and machine learning.\n",
            "\n",
            "    In this special case, you can fetch the dataset from the original\n",
            "    source::\n",
            "\n",
            "        import pandas as pd\n",
            "        import numpy as np\n",
            "\n",
            "\n",
            "        data_url = \"http://lib.stat.cmu.edu/datasets/boston\"\n",
            "        raw_df = pd.read_csv(data_url, sep=\"\\s+\", skiprows=22, header=None)\n",
            "        data = np.hstack([raw_df.values[::2, :], raw_df.values[1::2, :2]])\n",
            "        target = raw_df.values[1::2, 2]\n",
            "\n",
            "    Alternative datasets include the California housing dataset (i.e.\n",
            "    :func:`~sklearn.datasets.fetch_california_housing`) and the Ames housing\n",
            "    dataset. You can load the datasets as follows::\n",
            "\n",
            "        from sklearn.datasets import fetch_california_housing\n",
            "        housing = fetch_california_housing()\n",
            "\n",
            "    for the California housing dataset and::\n",
            "\n",
            "        from sklearn.datasets import fetch_openml\n",
            "        housing = fetch_openml(name=\"house_prices\", as_frame=True)\n",
            "\n",
            "    for the Ames housing dataset.\n",
            "    \n",
            "  warnings.warn(msg, category=FutureWarning)\n"
          ]
        }
      ]
    },
    {
      "cell_type": "markdown",
      "source": [
        "Lasso"
      ],
      "metadata": {
        "id": "Dvf-HheraTRC"
      }
    },
    {
      "cell_type": "code",
      "source": [
        "!pip install mglearn -q\n",
        "import mglearn\n",
        "from sklearn.linear_model import Lasso\n",
        "from sklearn.model_selection import train_test_split\n",
        "\n",
        "X,y = mglearn.datasets.load_extended_boston()\n",
        "\n",
        "X_train, X_test, y_train, y_test = train_test_split(X,y,random_state=0)\n",
        "\n",
        "model = Lasso(alpha=.01,max_iter=10000)\n",
        "\n",
        "\n",
        "\n",
        "model.fit(X_train,y_train)\n",
        "\n",
        "print(\"Prediction = {}\".format(model.predict(X_test)))\n",
        "\n",
        "print(\"Train Score = {}\".format(model.score(X_train,y_train)))\n",
        "\n",
        "print(\"Test Score = {}\".format(model.score(X_test,y_test)))"
      ],
      "metadata": {
        "colab": {
          "base_uri": "https://localhost:8080/"
        },
        "id": "_NEkakXgZ_Us",
        "outputId": "8a21093c-0d7f-4c6b-c1b9-8cf5e0c9ad47"
      },
      "execution_count": 21,
      "outputs": [
        {
          "output_type": "stream",
          "name": "stdout",
          "text": [
            "Prediction = [24.22331066 24.77801555 26.71085493 13.3084156  20.63756295 19.48275299\n",
            " 21.92242306 21.36727041 18.81464072 17.60714022  5.81035177 11.4722222\n",
            " 14.48026943 10.07188518 44.02860229 32.66685305 23.27174526 37.75551165\n",
            " 29.80410145 22.19261926 24.73533077 21.78772695 18.73037243 28.24999143\n",
            " 21.32403009 25.9649352  17.17844506 17.19117243 41.41339252 17.89120219\n",
            " 16.11534923 17.5155695  19.43893351 21.53870681 26.51355049 20.98380064\n",
            "  7.93407516 29.04481004 15.08664221 12.11920823 24.86937147 20.96939658\n",
            " 21.43751892 16.69996007 22.7471478  24.24439007 18.84998004 18.32687211\n",
            " 13.25619897 23.57719844 16.30498099 18.14867073 22.4386381  38.78961917\n",
            " 14.00096971 20.69149085 19.17114985 16.43082219 16.77827737 20.79001448\n",
            " 17.82197528 20.99173595 32.63990058 30.3496805  18.73896676 29.95696515\n",
            " 15.26811771 18.76801542 13.65798489 22.38918915 21.20944063 23.25448705\n",
            " 27.77549733 28.89593304 27.39807158  7.86160919 42.91788514 23.33844302\n",
            " 25.70202048 18.12448465 27.40366473 18.56650962 21.11741262 43.67850425\n",
            " 47.80037727 24.24621941 22.8326349  16.71836688 25.87323966 14.97074602\n",
            " 14.51288263  8.76836459 22.70574247 30.12264391 21.15831876 20.31269702\n",
            " 10.44075754 24.65169772 12.59868335 17.59609946 25.05383893 20.4833788\n",
            " 31.42343914 21.7311276  27.14239045 21.33351972 10.16754449 20.16578488\n",
            " 21.32855705 27.25418715 33.38687132 11.79477983 18.33049062 18.43684006\n",
            " 14.27158755 21.5861711   6.44734474 19.70544474 11.25859218 46.98438508\n",
            " 29.6510477  11.42296477 17.8360209  20.03168115 21.79087281 19.50342706\n",
            " 35.60970881]\n",
            "Train Score = 0.8962226511086497\n",
            "Test Score = 0.7656571174549982\n"
          ]
        },
        {
          "output_type": "stream",
          "name": "stderr",
          "text": [
            "/usr/local/lib/python3.7/dist-packages/sklearn/utils/deprecation.py:87: FutureWarning: Function load_boston is deprecated; `load_boston` is deprecated in 1.0 and will be removed in 1.2.\n",
            "\n",
            "    The Boston housing prices dataset has an ethical problem. You can refer to\n",
            "    the documentation of this function for further details.\n",
            "\n",
            "    The scikit-learn maintainers therefore strongly discourage the use of this\n",
            "    dataset unless the purpose of the code is to study and educate about\n",
            "    ethical issues in data science and machine learning.\n",
            "\n",
            "    In this special case, you can fetch the dataset from the original\n",
            "    source::\n",
            "\n",
            "        import pandas as pd\n",
            "        import numpy as np\n",
            "\n",
            "\n",
            "        data_url = \"http://lib.stat.cmu.edu/datasets/boston\"\n",
            "        raw_df = pd.read_csv(data_url, sep=\"\\s+\", skiprows=22, header=None)\n",
            "        data = np.hstack([raw_df.values[::2, :], raw_df.values[1::2, :2]])\n",
            "        target = raw_df.values[1::2, 2]\n",
            "\n",
            "    Alternative datasets include the California housing dataset (i.e.\n",
            "    :func:`~sklearn.datasets.fetch_california_housing`) and the Ames housing\n",
            "    dataset. You can load the datasets as follows::\n",
            "\n",
            "        from sklearn.datasets import fetch_california_housing\n",
            "        housing = fetch_california_housing()\n",
            "\n",
            "    for the California housing dataset and::\n",
            "\n",
            "        from sklearn.datasets import fetch_openml\n",
            "        housing = fetch_openml(name=\"house_prices\", as_frame=True)\n",
            "\n",
            "    for the Ames housing dataset.\n",
            "    \n",
            "  warnings.warn(msg, category=FutureWarning)\n"
          ]
        }
      ]
    },
    {
      "cell_type": "markdown",
      "source": [
        "Logistic Regression"
      ],
      "metadata": {
        "id": "W9gmSAeleQHh"
      }
    },
    {
      "cell_type": "code",
      "source": [
        "from sklearn.linear_model import LogisticRegression\n",
        "from sklearn.model_selection import train_test_split\n",
        "from sklearn.datasets import load_breast_cancer\n",
        "\n",
        "cancer = load_breast_cancer()\n",
        "X_train, X_test, y_train, y_test = train_test_split(cancer.data,cancer.target,random_state=0)\n",
        "\n",
        "model = LogisticRegression()\n",
        "\n",
        "\n",
        "\n",
        "model.fit(X_train,y_train)\n",
        "\n",
        "print(\"Prediction = {}\".format(model.predict(X_test)))\n",
        "\n",
        "print(\"Train Score = {}\".format(model.score(X_train,y_train)))\n",
        "\n",
        "print(\"Test Score = {}\".format(model.score(X_test,y_test)))"
      ],
      "metadata": {
        "colab": {
          "base_uri": "https://localhost:8080/"
        },
        "id": "a_6itvQjagln",
        "outputId": "fd5a0162-26e6-4086-a1c7-a2d1b509846f"
      },
      "execution_count": 23,
      "outputs": [
        {
          "output_type": "stream",
          "name": "stdout",
          "text": [
            "Prediction = [0 1 1 1 1 1 1 1 1 1 1 1 1 0 1 0 1 0 0 0 0 0 1 1 0 1 1 0 1 0 1 0 1 0 1 0 1\n",
            " 0 1 0 0 1 0 1 0 0 1 1 1 0 0 0 0 1 1 1 1 1 1 0 0 0 1 1 0 1 0 0 0 1 0 0 1 1\n",
            " 0 1 1 1 1 1 0 0 0 1 0 1 1 1 0 0 1 0 0 0 1 1 0 1 1 1 1 1 1 1 0 1 0 1 0 0 1\n",
            " 0 0 1 1 1 1 1 1 1 1 1 0 1 0 1 0 1 1 1 0 1 1 1 1 1 1 0 0 1 1 1 0]\n",
            "Train Score = 0.9577464788732394\n",
            "Test Score = 0.958041958041958\n"
          ]
        },
        {
          "output_type": "stream",
          "name": "stderr",
          "text": [
            "/usr/local/lib/python3.7/dist-packages/sklearn/linear_model/_logistic.py:818: ConvergenceWarning: lbfgs failed to converge (status=1):\n",
            "STOP: TOTAL NO. of ITERATIONS REACHED LIMIT.\n",
            "\n",
            "Increase the number of iterations (max_iter) or scale the data as shown in:\n",
            "    https://scikit-learn.org/stable/modules/preprocessing.html\n",
            "Please also refer to the documentation for alternative solver options:\n",
            "    https://scikit-learn.org/stable/modules/linear_model.html#logistic-regression\n",
            "  extra_warning_msg=_LOGISTIC_SOLVER_CONVERGENCE_MSG,\n"
          ]
        }
      ]
    },
    {
      "cell_type": "markdown",
      "source": [
        "SVC / LinearSVC"
      ],
      "metadata": {
        "id": "YBL7MU4peqaZ"
      }
    },
    {
      "cell_type": "code",
      "source": [
        "from sklearn.svm import LinearSVC\n",
        "from sklearn.model_selection import train_test_split\n",
        "from sklearn.datasets import load_breast_cancer\n",
        "\n",
        "cancer = load_breast_cancer()\n",
        "X_train, X_test, y_train, y_test = train_test_split(cancer.data,cancer.target,random_state=0)\n",
        "\n",
        "model = LinearSVC()\n",
        "\n",
        "\n",
        "\n",
        "model.fit(X_train,y_train)\n",
        "\n",
        "print(\"Prediction = {}\".format(model.predict(X_test)))\n",
        "\n",
        "print(\"Train Score = {}\".format(model.score(X_train,y_train)))\n",
        "\n",
        "print(\"Test Score = {}\".format(model.score(X_test,y_test)))"
      ],
      "metadata": {
        "colab": {
          "base_uri": "https://localhost:8080/"
        },
        "id": "igBVAWVOedgU",
        "outputId": "fc055f06-6e1f-41f9-e477-cfbdc09aaf53"
      },
      "execution_count": 24,
      "outputs": [
        {
          "output_type": "stream",
          "name": "stdout",
          "text": [
            "Prediction = [0 1 1 1 1 1 1 1 1 1 1 1 1 1 1 0 1 0 1 0 0 1 1 1 1 1 1 1 1 0 1 0 1 0 1 0 1\n",
            " 0 1 0 1 1 0 1 1 0 1 1 1 0 0 1 0 1 1 1 1 1 1 0 1 0 1 1 0 1 0 0 0 1 1 0 1 1\n",
            " 0 1 1 1 1 1 0 0 0 1 1 1 1 1 0 0 1 1 1 1 1 1 0 1 1 1 1 1 1 1 0 1 0 1 1 1 1\n",
            " 1 0 1 1 1 1 1 1 1 1 1 1 1 0 1 1 1 1 1 0 1 1 1 1 1 1 1 0 1 1 1 0]\n",
            "Train Score = 0.892018779342723\n",
            "Test Score = 0.8881118881118881\n"
          ]
        },
        {
          "output_type": "stream",
          "name": "stderr",
          "text": [
            "/usr/local/lib/python3.7/dist-packages/sklearn/svm/_base.py:1208: ConvergenceWarning: Liblinear failed to converge, increase the number of iterations.\n",
            "  ConvergenceWarning,\n"
          ]
        }
      ]
    },
    {
      "cell_type": "markdown",
      "source": [
        "Decision Tree Classifier"
      ],
      "metadata": {
        "id": "mxR_I1WAiR0J"
      }
    },
    {
      "cell_type": "code",
      "source": [
        "from sklearn.tree import DecisionTreeClassifier\n",
        "from sklearn.model_selection import train_test_split\n",
        "from sklearn.datasets import load_breast_cancer\n",
        "\n",
        "cancer = load_breast_cancer()\n",
        "X_train, X_test, y_train, y_test = train_test_split(cancer.data,cancer.target,random_state=0)\n",
        "\n",
        "model = DecisionTreeClassifier(random_state=0)\n",
        "\n",
        "\n",
        "\n",
        "model.fit(X_train,y_train)\n",
        "\n",
        "print(\"Prediction = {}\".format(model.predict(X_test)))\n",
        "\n",
        "print(\"Train Score = {}\".format(model.score(X_train,y_train)))\n",
        "\n",
        "print(\"Test Score = {}\".format(model.score(X_test,y_test)))"
      ],
      "metadata": {
        "colab": {
          "base_uri": "https://localhost:8080/"
        },
        "id": "voCkLTBVeyHA",
        "outputId": "6bc66c9e-9c28-4115-ecde-ecd0e7c4a01c"
      },
      "execution_count": 25,
      "outputs": [
        {
          "output_type": "stream",
          "name": "stdout",
          "text": [
            "Prediction = [0 1 1 1 1 1 1 1 1 1 0 1 1 0 0 0 1 0 0 0 0 0 1 1 0 1 1 0 1 0 1 0 1 0 1 0 1\n",
            " 0 1 0 1 1 0 1 0 0 1 1 1 0 0 0 0 1 1 1 0 1 1 0 0 0 1 1 0 1 0 0 0 1 1 0 1 1\n",
            " 0 1 1 0 1 1 0 0 0 1 0 1 1 1 0 0 1 1 1 0 1 1 0 0 1 1 1 1 1 1 0 1 0 0 0 0 1\n",
            " 0 0 0 1 1 1 1 0 1 1 1 0 1 0 0 0 1 1 1 0 1 1 0 0 1 1 0 0 1 1 1 0]\n",
            "Train Score = 1.0\n",
            "Test Score = 0.8811188811188811\n"
          ]
        }
      ]
    },
    {
      "cell_type": "code",
      "source": [
        ""
      ],
      "metadata": {
        "id": "y5zXMN9sihy-"
      },
      "execution_count": null,
      "outputs": []
    }
  ]
}